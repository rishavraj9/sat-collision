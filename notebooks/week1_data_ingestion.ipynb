{
 "cells": [
  {
   "cell_type": "code",
   "execution_count": 1,
   "id": "c8e674db",
   "metadata": {},
   "outputs": [],
   "source": [
    "# Cell 1: Imports\n",
    "import requests\n",
    "from sgp4.api import Satrec\n",
    "from datetime import datetime, timedelta, timezone\n",
    "import numpy as np\n",
    "import pandas as pd"
   ]
  },
  {
   "cell_type": "code",
   "execution_count": 8,
   "id": "07a7ef62",
   "metadata": {},
   "outputs": [
    {
     "name": "stdout",
     "output_type": "stream",
     "text": [
      "Fetched 13 satellites. Example: {'name': 'ISS (ZARYA)', 'line1': '1 25544U 98067A   25248.13333647  .00010878  00000+0  19750-3 0  9999', 'line2': '2 25544  51.6332 270.8228 0004213 301.3502  58.7074 15.50112942527561'}\n"
     ]
    }
   ],
   "source": [
    "# Cell 2: Fetch TLE Data from Celestrak\n",
    "# Function to fetch TLEs for a specific set (e.g., 'stations' for ISS)\n",
    "def fetch_tles(set_name='stations'):\n",
    "    url = f\"https://celestrak.org/NORAD/elements/{set_name}.txt\"\n",
    "    response = requests.get(url)\n",
    "    if response.status_code != 200:\n",
    "        raise ValueError(f\"Failed to fetch TLE from {url}\")\n",
    "    lines = response.text.splitlines()\n",
    "    \n",
    "    tles = []\n",
    "    i = 0\n",
    "    while i < len(lines) - 2:\n",
    "        name = lines[i].strip()\n",
    "        line1 = lines[i+1].strip()\n",
    "        line2 = lines[i+2].strip()\n",
    "        if line1.startswith('1 ') and line2.startswith('2 '):\n",
    "            tles.append({'name': name, 'line1': line1, 'line2': line2})\n",
    "            i += 3\n",
    "        else:\n",
    "            i += 1\n",
    "    return tles\n",
    "\n",
    "# Example: Fetch TLEs for ISS (stations set)\n",
    "tles = fetch_tles('stations')\n",
    "print(f\"Fetched {len(tles)} satellites. Example: {tles[0]}\")"
   ]
  },
  {
   "cell_type": "code",
   "execution_count": null,
   "id": "01a65fa5",
   "metadata": {},
   "outputs": [
    {
     "name": "stdout",
     "output_type": "stream",
     "text": [
      "Fetched 13 satellites. Example: {'name': 'ISS (ZARYA)', 'line1': '1 25544U 98067A   25248.13333647  .00010878  00000+0  19750-3 0  9999', 'line2': '2 25544  51.6332 270.8228 0004213 301.3502  58.7074 15.50112942527561'}\n"
     ]
    }
   ],
   "source": [
    "# Cell 3: Propagate Positions Using SGP4\n",
    "# Function to generate positions for one satellite\n",
    "def generate_positions(tle, start_time, duration_minutes=60, step_seconds=60):\n",
    "    satellite = Satrec.twoline2rv(tle['line1'], tle['line2'])\n",
    "    \n",
    "    positions = []\n",
    "    for minute in range(0, duration_minutes, step_seconds // 60):\n",
    "        t = start_time + timedelta(minutes=minute)\n",
    "        jd = t.toordinal() + (t - datetime(t.year, t.month, t.day)).total_seconds() / 86400.0\n",
    "        fr = jd % 1\n",
    "        jd = int(jd)\n",
    "        \n",
    "        e, r, v = satellite.sgp4(jd, fr)  # r = position in km (ECI), v = velocity in km/s\n",
    "        if e == 0:  # No error\n",
    "            positions.append({\n",
    "                'name': tle['name'],\n",
    "                'time': t.isoformat(),\n",
    "                'x_km': r[0],\n",
    "                'y_km': r[1],\n",
    "                'z_km': r[2],\n",
    "                'vx_kms': v[0],\n",
    "                'vy_kms': v[1],\n",
    "                'vz_kms': v[2]\n",
    "            })\n",
    "    \n",
    "    return pd.DataFrame(positions)\n",
    "\n",
    "# Example: Propagate for first satellite (e.g., ISS)\n",
    "start_time = datetime.now(timezone.utc)  # Use current UTC time\n",
    "df_positions = generate_positions(tles[0], start_time, duration_minutes=60, step_seconds=60)\n",
    "print(df_positions.head())"
   ]
  }
 ],
 "metadata": {
  "kernelspec": {
   "display_name": "myenv",
   "language": "python",
   "name": "python3"
  },
  "language_info": {
   "codemirror_mode": {
    "name": "ipython",
    "version": 3
   },
   "file_extension": ".py",
   "mimetype": "text/x-python",
   "name": "python",
   "nbconvert_exporter": "python",
   "pygments_lexer": "ipython3",
   "version": "3.12.10"
  }
 },
 "nbformat": 4,
 "nbformat_minor": 5
}
